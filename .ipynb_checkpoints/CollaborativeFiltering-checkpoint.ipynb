{
 "cells": [
  {
   "cell_type": "markdown",
   "id": "268afce9-825e-44a4-a793-a4b82ba49b23",
   "metadata": {
    "tags": []
   },
   "source": [
    "# **Big Data Assignment Week 9**\n",
    "## Collaborative Filtering\n",
    "---\n",
    "\n",
    "Name: Farros Hilmi Syafei \n",
    "<br>\n",
    "Student ID: 5025201012\n",
    "<br>\n",
    "Class: Big Data A\n",
    "<br>\n",
    "Lecturer: Abdul Munif, S.Kom., M.Sc.\n",
    "\n",
    "\n",
    "Using: JupyterLab </br>\n",
    "Reference: https://spark.apache.org/docs/latest/ml-collaborative-filtering.html"
   ]
  },
  {
   "cell_type": "markdown",
   "id": "3d5ae487-3b1f-4d7c-8c21-4d10c948c1b0",
   "metadata": {
    "tags": []
   },
   "source": [
    "## Initialization"
   ]
  },
  {
   "cell_type": "code",
   "execution_count": 40,
   "id": "08a497fc-643a-4635-a947-12c7b039e53d",
   "metadata": {},
   "outputs": [],
   "source": [
    "# SparkSession Initialization\n",
    "# Set the Spark driver and executor memory configuration properties\n",
    "\n",
    "from pyspark.sql import SparkSession\n",
    "spark = SparkSession.builder \\\n",
    "    .appName(\"MyApp\") \\\n",
    "    .config(\"spark.driver.extraJavaOptions\", \"-Xss8g\") \\\n",
    "    .config(\"spark.executor.extraJavaOptions\", \"-Xss8g\") \\\n",
    "    .getOrCreate()"
   ]
  },
  {
   "cell_type": "code",
   "execution_count": 41,
   "id": "ccf004ab-0c88-4704-9303-1200239f5636",
   "metadata": {},
   "outputs": [],
   "source": [
    "# Import necessary modules\n",
    "from pyspark.ml.evaluation import RegressionEvaluator\n",
    "from pyspark.ml.recommendation import ALS\n",
    "from pyspark.ml.tuning import CrossValidator, ParamGridBuilder\n",
    "from pyspark.sql import Row\n",
    "\n",
    "# Read data from a text file and separate elements of each line\n",
    "lines = spark.read.text(\"miniconda3/lib/python3.9/site-packages/pyspark/data/mllib/sample_movielens_ratings.txt\").rdd\n",
    "parts = lines.map(lambda row: row.value.split(\"::\"))\n",
    "\n",
    "# Convert data into a DataFrame with userId, movieId, rating, and timestamp columns\n",
    "ratingsRDD = parts.map(lambda p: Row(userId=int(p[0]), movieId=int(p[1]),\n",
    "                                     rating=float(p[2]), timestamp=int(p[3])))\n",
    "\n",
    "# Split the data into training (80%) and testing (20%) sets\n",
    "ratings = spark.createDataFrame(ratingsRDD)\n",
    "(training, test) = ratings.randomSplit([0.8, 0.2])"
   ]
  },
  {
   "cell_type": "markdown",
   "id": "21fe1321-cdde-4f03-b79d-36fcc4d03f70",
   "metadata": {
    "tags": []
   },
   "source": [
    "## Build Recomendation model using ALS"
   ]
  },
  {
   "cell_type": "code",
   "execution_count": 42,
   "id": "80a9d27e-2dae-4b07-8fb5-1c7240218d80",
   "metadata": {},
   "outputs": [],
   "source": [
    "# Initialize the parameters in to an array\n",
    "max_iters = [5, 10, 15, 20]\n",
    "reg_params = [0.1, 0.5, 1.0]\n",
    "\n",
    "# Create empty dictionary to store RMSE results for each combination of hyperparameters\n",
    "results = {}"
   ]
  },
  {
   "cell_type": "code",
   "execution_count": 43,
   "id": "73c9b8a7-7fce-416d-9684-358c21172333",
   "metadata": {},
   "outputs": [
    {
     "name": "stdout",
     "output_type": "stream",
     "text": [
      "Root-mean-square error for maxIter=5, regParam=0.1 = 0.921784586565725\n",
      "Root-mean-square error for maxIter=5, regParam=0.5 = 1.119076748103717\n",
      "Root-mean-square error for maxIter=5, regParam=1.0 = 1.4053489513207658\n",
      "Root-mean-square error for maxIter=10, regParam=0.1 = 0.8625981642804895\n",
      "Root-mean-square error for maxIter=10, regParam=0.5 = 1.116410578960977\n",
      "Root-mean-square error for maxIter=10, regParam=1.0 = 1.405356756253438\n",
      "Root-mean-square error for maxIter=15, regParam=0.1 = 0.8521670970628911\n",
      "Root-mean-square error for maxIter=15, regParam=0.5 = 1.11668869893221\n",
      "Root-mean-square error for maxIter=15, regParam=1.0 = 1.405356758474302\n",
      "Root-mean-square error for maxIter=20, regParam=0.1 = 0.849335755687161\n",
      "Root-mean-square error for maxIter=20, regParam=0.5 = 1.1168895104815277\n",
      "Root-mean-square error for maxIter=20, regParam=1.0 = 1.405356762997726\n"
     ]
    }
   ],
   "source": [
    "# Loop for every combination of maxIter and regParam Array\n",
    "for max_iter in max_iters:\n",
    "    for reg_param in reg_params:\n",
    "        # Build the recommendation model using ALS on the training data\n",
    "        # Note we set cold start strategy to 'drop' to ensure we don't get NaN evaluation metrics\n",
    "        als = ALS(maxIter=max_iter, regParam=reg_param, userCol=\"userId\", itemCol=\"movieId\", ratingCol=\"rating\",\n",
    "                  coldStartStrategy=\"drop\")\n",
    "        model = als.fit(training)\n",
    "\n",
    "        # Evaluate the model by computing the RMSE on the test data\n",
    "        predictions = model.transform(test)\n",
    "        # Generates the predictions using the model generated above and applies a RegressionEvaluator on them to calculate the RMSE (root-mean-square error).\n",
    "        evaluator = RegressionEvaluator(metricName=\"rmse\", labelCol=\"rating\",\n",
    "                                        predictionCol=\"prediction\")\n",
    "        rmse = evaluator.evaluate(predictions)\n",
    "\n",
    "        # Save the RMSE result in the dictionary where key is a tuple of max_iter and reg_param values and the value is the RMSE score.\n",
    "        results[(max_iter, reg_param)] = rmse\n",
    "        # prints the RMSE value of the model with current hyperparameters.\n",
    "        print(f\"Root-mean-square error for maxIter={max_iter}, regParam={reg_param} = {rmse}\")"
   ]
  },
  {
   "cell_type": "code",
   "execution_count": 44,
   "id": "39dcd787-b59d-4099-a620-248f8138b34c",
   "metadata": {},
   "outputs": [
    {
     "name": "stdout",
     "output_type": "stream",
     "text": [
      "\n",
      "Best hyperparameters: maxIter=20, regParam=0.1 with RMSE=0.849335755687161\n"
     ]
    }
   ],
   "source": [
    "# Find the minimum RMSE value in the results dictionary and return the corresponding hyperparameter combination with the lowest RMSE value.\n",
    "best_params = min(results, key=results.get)\n",
    "best_rmse = results[best_params]\n",
    "print(f\"\\nBest hyperparameters: maxIter={best_params[0]}, regParam={best_params[1]} with RMSE={best_rmse}\")"
   ]
  },
  {
   "cell_type": "markdown",
   "id": "af919c33-ffdf-4f1b-831a-1377049574df",
   "metadata": {},
   "source": [
    "## Generate Movie Recomendation"
   ]
  },
  {
   "cell_type": "code",
   "execution_count": 46,
   "id": "d27595a1-f156-4f71-b38c-dbc868027120",
   "metadata": {},
   "outputs": [],
   "source": [
    "# Build the final recommendation model using the best hyperparameters obtained\n",
    "best_als = ALS(maxIter=best_params[0], regParam=best_params[1], userCol=\"userId\", itemCol=\"movieId\", ratingCol=\"rating\",\n",
    "               coldStartStrategy=\"drop\")\n",
    "# Set cold start strategy to 'drop' to ensure we don't get NaN evaluation metrics\n",
    "best_model = best_als.fit(training)"
   ]
  },
  {
   "cell_type": "markdown",
   "id": "440ab3da-b30c-4a03-811a-9f0c41e70aed",
   "metadata": {},
   "source": [
    "## Print Result and Show Ouput"
   ]
  },
  {
   "cell_type": "code",
   "execution_count": 47,
   "id": "880ef74f-022e-4e8e-a8fa-4f1243d498b6",
   "metadata": {},
   "outputs": [
    {
     "name": "stderr",
     "output_type": "stream",
     "text": [
      "[Stage 8032:================>                                   (31 + 16) / 100]\r"
     ]
    },
    {
     "name": "stdout",
     "output_type": "stream",
     "text": [
      "+------+--------------------+\n",
      "|userId|     recommendations|\n",
      "+------+--------------------+\n",
      "|    20|[{22, 3.9041224},...|\n",
      "|    10|[{2, 3.3204358}, ...|\n",
      "|     0|[{9, 2.7876582}, ...|\n",
      "|     1|[{68, 3.253139}, ...|\n",
      "|    21|[{29, 4.6004267},...|\n",
      "|    11|[{18, 4.7046185},...|\n",
      "|    12|[{46, 4.4934826},...|\n",
      "|    22|[{75, 4.6521616},...|\n",
      "|     2|[{8, 4.5137844}, ...|\n",
      "|    13|[{93, 2.8385494},...|\n",
      "|     3|[{51, 4.0174823},...|\n",
      "|    23|[{55, 4.711238}, ...|\n",
      "|     4|[{2, 3.4940147}, ...|\n",
      "|    24|[{52, 4.4041543},...|\n",
      "|    14|[{52, 4.6952863},...|\n",
      "|     5|[{55, 4.0255384},...|\n",
      "|    15|[{46, 3.9096065},...|\n",
      "|    25|[{47, 3.1707156},...|\n",
      "|    26|[{88, 4.5196896},...|\n",
      "|     6|[{25, 3.6736743},...|\n",
      "+------+--------------------+\n",
      "only showing top 20 rows\n",
      "\n"
     ]
    },
    {
     "name": "stderr",
     "output_type": "stream",
     "text": [
      "                                                                                \r"
     ]
    }
   ],
   "source": [
    "# Generate top 10 movie recommendations for each user\n",
    "userRecs = best_model.recommendForAllUsers(10)\n",
    "userRecs.show()"
   ]
  },
  {
   "cell_type": "code",
   "execution_count": 48,
   "id": "3d8052ba-1521-43f8-96a6-ca8c905030da",
   "metadata": {},
   "outputs": [
    {
     "name": "stdout",
     "output_type": "stream",
     "text": [
      "+-------+--------------------+\n",
      "|movieId|     recommendations|\n",
      "+-------+--------------------+\n",
      "|     20|[{17, 4.118328}, ...|\n",
      "|     40|[{28, 3.6088238},...|\n",
      "|     10|[{17, 3.4879637},...|\n",
      "|     50|[{23, 3.8541417},...|\n",
      "|     80|[{3, 3.323558}, {...|\n",
      "|     70|[{4, 3.0526662}, ...|\n",
      "|     60|[{21, 2.6623228},...|\n",
      "|     90|[{17, 4.5872664},...|\n",
      "|     30|[{11, 4.622165}, ...|\n",
      "|      0|[{28, 2.3792202},...|\n",
      "|     31|[{12, 3.1533713},...|\n",
      "|     81|[{28, 4.175014}, ...|\n",
      "|     91|[{12, 2.8104184},...|\n",
      "|      1|[{12, 3.1678045},...|\n",
      "|     41|[{4, 3.239939}, {...|\n",
      "|     61|[{6, 2.1180947}, ...|\n",
      "|     51|[{22, 4.2877326},...|\n",
      "|     21|[{26, 2.7936552},...|\n",
      "|     11|[{18, 3.4344501},...|\n",
      "|     71|[{25, 2.885117}, ...|\n",
      "+-------+--------------------+\n",
      "only showing top 20 rows\n",
      "\n"
     ]
    }
   ],
   "source": [
    "# Generate top 10 user recommendations for each movie\n",
    "movieRecs = best_model.recommendForAllItems(10)\n",
    "movieRecs.show()"
   ]
  },
  {
   "cell_type": "code",
   "execution_count": 49,
   "id": "0967e10f-def4-417e-9ed8-978c58c9b992",
   "metadata": {},
   "outputs": [
    {
     "name": "stdout",
     "output_type": "stream",
     "text": [
      "+------+--------------------+\n",
      "|userId|     recommendations|\n",
      "+------+--------------------+\n",
      "|    26|[{88, 4.5196896},...|\n",
      "|    19|[{22, 3.402011}, ...|\n",
      "|    29|[{90, 3.8608525},...|\n",
      "+------+--------------------+\n",
      "\n"
     ]
    }
   ],
   "source": [
    "# Generate top 10 movie recommendations for a specific set of users\n",
    "users = ratings.select(best_als.getUserCol()).distinct().limit(3)\n",
    "userSubsetRecs = best_model.recommendForUserSubset(users, 10)\n",
    "userSubsetRecs.show()"
   ]
  },
  {
   "cell_type": "code",
   "execution_count": 50,
   "id": "099cf5c0-353d-45a0-9772-3c551cb3204f",
   "metadata": {},
   "outputs": [
    {
     "name": "stdout",
     "output_type": "stream",
     "text": [
      "+-------+--------------------+\n",
      "|movieId|     recommendations|\n",
      "+-------+--------------------+\n",
      "|     65|[{23, 4.0409894},...|\n",
      "|     26|[{15, 2.2858176},...|\n",
      "|     29|[{8, 4.632507}, {...|\n",
      "+-------+--------------------+\n",
      "\n"
     ]
    }
   ],
   "source": [
    "# Generate top 10 user recommendations for a specific set of movies\n",
    "movies = ratings.select(best_als.getItemCol()).distinct().limit(3)\n",
    "movieSubSetRecs = best_model.recommendForItemSubset(movies, 10)\n",
    "movieSubSetRecs.show()"
   ]
  },
  {
   "cell_type": "markdown",
   "id": "68344b5a-1a17-40a5-8271-a3d676cc7c69",
   "metadata": {},
   "source": [
    "## Summary\n",
    "\n",
    "* Collaborative Filtering: </br>\n",
    "Collaborative filtering is a technique used for recommendation systems that involves making predictions about user preferences based on past behavior of similar users.\n",
    "\n",
    "* User-based vs Item-based Collaborative Filtering: </br>\n",
    "Collaborative filtering can be done using either user-based or item-based methods, with the former being more popular in practice.\n",
    "\n",
    "* Implementation of Collaborative Filtering using ALS Algorithm: </br>\n",
    "Apache Spark's MLlib library provides an implementation of collaborative filtering using the Alternating Least Squares (ALS) algorithm.\n",
    "\n",
    "To use ALS in Spark, we need to initialize a SparkSession and import necessary modules such as RegressionEvaluator, ALS, and ParamGridBuilder.\n",
    "\n",
    "* Loading Data for Collaborative Filtering: </br>\n",
    "The data for collaborative filtering can be loaded into a DataFrame using Spark's read.text method, and then transformed into an RDD to extract individual elements of each line.\n",
    "\n",
    "The RDD can then be converted into a DataFrame with columns for userId, movieId, rating, and timestamp.\n",
    "\n",
    "* Splitting Data and Model Evaluation: </br>\n",
    "The data can be split into training and testing sets, with the former being used to train the ALS model and the latter being used to evaluate its performance.\n",
    "\n",
    "* Finding Optimal Hyperparameters: </br>\n",
    "We can then loop over various hyperparameters such as maxIter and regParam to find the combination that results in the lowest RMSE value using a dictionary to store the results.\n",
    "\n",
    "* Training the Final Model and Generating Recommendations </br>\n",
    "The best hyperparameters can be used to train the final ALS model using the fit method, and top movie recommendations for each user can be generated using the recommendForAllUsers method.\n"
   ]
  }
 ],
 "metadata": {
  "kernelspec": {
   "display_name": "Python 3 (ipykernel)",
   "language": "python",
   "name": "python3"
  },
  "language_info": {
   "codemirror_mode": {
    "name": "ipython",
    "version": 3
   },
   "file_extension": ".py",
   "mimetype": "text/x-python",
   "name": "python",
   "nbconvert_exporter": "python",
   "pygments_lexer": "ipython3",
   "version": "3.10.9"
  }
 },
 "nbformat": 4,
 "nbformat_minor": 5
}
