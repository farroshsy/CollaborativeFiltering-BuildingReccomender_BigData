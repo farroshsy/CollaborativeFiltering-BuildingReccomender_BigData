{
  "nbformat": 4,
  "nbformat_minor": 0,
  "metadata": {
    "colab": {
      "provenance": [],
      "authorship_tag": "ABX9TyN+FmLDUXFGGWaGHGAp/mRe",
      "include_colab_link": true
    },
    "kernelspec": {
      "name": "python3",
      "display_name": "Python 3"
    },
    "language_info": {
      "name": "python"
    }
  },
  "cells": [
    {
      "cell_type": "markdown",
      "metadata": {
        "id": "view-in-github",
        "colab_type": "text"
      },
      "source": [
        "<a href=\"https://colab.research.google.com/github/farroshsy/CollaborativeFiltering-BuildingReccomender_BigData/blob/main/CollaborativeFiltering.ipynb\" target=\"_parent\"><img src=\"https://colab.research.google.com/assets/colab-badge.svg\" alt=\"Open In Colab\"/></a>"
      ]
    },
    {
      "cell_type": "markdown",
      "source": [
        "# **Big Data Assignment Week 9**\n",
        "## Filtering Collaborative\n",
        "---\n",
        "\n",
        "Name: Farros Hilmi Syafei \n",
        "<br>\n",
        "Student ID: 5025201012\n",
        "<br>\n",
        "Class: Big Data A\n",
        "<br>\n",
        "Lecturer: Abdul Munif, S.Kom., M.Sc.\n",
        "\n",
        "\n",
        "reference: https://spark.apache.org/docs/latest/ml-collaborative-filtering.html"
      ],
      "metadata": {
        "id": "gHGb_d3FSXlV"
      }
    },
    {
      "cell_type": "markdown",
      "source": [
        "## Install & Initialization"
      ],
      "metadata": {
        "id": "rmLjCvvHSi0D"
      }
    },
    {
      "cell_type": "code",
      "source": [
        "!pip install pyspark"
      ],
      "metadata": {
        "colab": {
          "base_uri": "https://localhost:8080/"
        },
        "id": "2MzwySIrSu4L",
        "outputId": "87251967-138b-4bd4-88ea-cfab2f19e2ae"
      },
      "execution_count": 1,
      "outputs": [
        {
          "output_type": "stream",
          "name": "stdout",
          "text": [
            "Looking in indexes: https://pypi.org/simple, https://us-python.pkg.dev/colab-wheels/public/simple/\n",
            "Collecting pyspark\n",
            "  Downloading pyspark-3.3.2.tar.gz (281.4 MB)\n",
            "\u001b[2K     \u001b[90m━━━━━━━━━━━━━━━━━━━━━━━━━━━━━━━━━━━━━━━\u001b[0m \u001b[32m281.4/281.4 MB\u001b[0m \u001b[31m3.8 MB/s\u001b[0m eta \u001b[36m0:00:00\u001b[0m\n",
            "\u001b[?25h  Preparing metadata (setup.py) ... \u001b[?25l\u001b[?25hdone\n",
            "Collecting py4j==0.10.9.5\n",
            "  Downloading py4j-0.10.9.5-py2.py3-none-any.whl (199 kB)\n",
            "\u001b[2K     \u001b[90m━━━━━━━━━━━━━━━━━━━━━━━━━━━━━━━━━━━━━━\u001b[0m \u001b[32m199.7/199.7 kB\u001b[0m \u001b[31m11.0 MB/s\u001b[0m eta \u001b[36m0:00:00\u001b[0m\n",
            "\u001b[?25hBuilding wheels for collected packages: pyspark\n",
            "  Building wheel for pyspark (setup.py) ... \u001b[?25l\u001b[?25hdone\n",
            "  Created wheel for pyspark: filename=pyspark-3.3.2-py2.py3-none-any.whl size=281824028 sha256=6d3e3347f9d64a857fe564111a5c526dab6350523833a1b8090ca237e0b8dd41\n",
            "  Stored in directory: /root/.cache/pip/wheels/6c/e3/9b/0525ce8a69478916513509d43693511463c6468db0de237c86\n",
            "Successfully built pyspark\n",
            "Installing collected packages: py4j, pyspark\n",
            "  Attempting uninstall: py4j\n",
            "    Found existing installation: py4j 0.10.9.7\n",
            "    Uninstalling py4j-0.10.9.7:\n",
            "      Successfully uninstalled py4j-0.10.9.7\n",
            "Successfully installed py4j-0.10.9.5 pyspark-3.3.2\n"
          ]
        }
      ]
    },
    {
      "cell_type": "code",
      "source": [
        "from pyspark.ml.evaluation import RegressionEvaluator\n",
        "from pyspark.ml.recommendation import ALS\n",
        "from pyspark.sql import Row, SparkSession"
      ],
      "metadata": {
        "id": "0pSKVF2lSySI"
      },
      "execution_count": 13,
      "outputs": []
    },
    {
      "cell_type": "code",
      "source": [
        "# SparkSession Initialization\n",
        "spark = SparkSession.builder \\\n",
        "    .master(\"local\") \\\n",
        "    .appName(\"MovieLens\") \\\n",
        "    .getOrCreate()"
      ],
      "metadata": {
        "id": "u-NHQMxpSzI0"
      },
      "execution_count": 14,
      "outputs": []
    },
    {
      "cell_type": "code",
      "source": [
        "# Read data from a text file and separate elements of each line\n",
        "lines = spark.read.text(\"./sample_data/sample_movielens_ratings.txt\").rdd\n",
        "parts = lines.map(lambda row: row.value.split(\"::\"))"
      ],
      "metadata": {
        "id": "foOunQIDSzNg"
      },
      "execution_count": 15,
      "outputs": []
    },
    {
      "cell_type": "code",
      "source": [
        "# Convert data into a DataFrame with userId, movieId, rating, and timestamp columns\n",
        "ratingsRDD = parts.map(lambda p: Row(userId=int(p[0]), movieId=int(p[1]),\n",
        "                                     rating=float(p[2]), timestamp=int(p[3])))\n",
        "\n",
        "# Split the data into training (80%) and testing (20%) sets\n",
        "ratings = spark.createDataFrame(ratingsRDD)\n",
        "(training, test) = ratings.randomSplit([0.8, 0.2])"
      ],
      "metadata": {
        "id": "j88Ky9u3S2-s"
      },
      "execution_count": 16,
      "outputs": []
    },
    {
      "cell_type": "markdown",
      "source": [
        "## Build Recomendation model using ALS"
      ],
      "metadata": {
        "id": "GMaIvlNKS9ym"
      }
    },
    {
      "cell_type": "code",
      "source": [
        "# Initialize the parameters to be tried\n",
        "max_iters = [5, 10, 15]\n",
        "reg_params = [0.1, 0.5, 1.0]\n",
        "\n",
        "# Dictionary to store RMSE results\n",
        "results = {}"
      ],
      "metadata": {
        "id": "NM6d7D08S-YG"
      },
      "execution_count": 19,
      "outputs": []
    },
    {
      "cell_type": "code",
      "source": [
        "# Loop for every combination of maxIter and regParam\n",
        "for max_iter in max_iters:\n",
        "    for reg_param in reg_params:\n",
        "        # Build the recommendation model using ALS on the training data\n",
        "        # Note we set cold start strategy to 'drop' to ensure we don't get NaN evaluation metrics\n",
        "        als = ALS(maxIter=max_iter, regParam=reg_param, userCol=\"userId\", itemCol=\"movieId\", ratingCol=\"rating\",\n",
        "                  coldStartStrategy=\"drop\")\n",
        "        model = als.fit(training)\n",
        "\n",
        "        # Evaluate the model by computing the RMSE on the test data\n",
        "        predictions = model.transform(test)\n",
        "        evaluator = RegressionEvaluator(metricName=\"rmse\", labelCol=\"rating\",\n",
        "                                        predictionCol=\"prediction\")\n",
        "        rmse = evaluator.evaluate(predictions)\n",
        "\n",
        "        # Save the RMSE result in the dictionary\n",
        "        results[(max_iter, reg_param)] = rmse\n",
        "        print(f\"Root-mean-square error for maxIter={max_iter}, regParam={reg_param} = {rmse}\")"
      ],
      "metadata": {
        "colab": {
          "base_uri": "https://localhost:8080/"
        },
        "id": "gCa3N2UFTBgF",
        "outputId": "1d785765-62d9-4121-ca8f-1935e0e46501"
      },
      "execution_count": 20,
      "outputs": [
        {
          "output_type": "stream",
          "name": "stdout",
          "text": [
            "Root-mean-square error for maxIter=5, regParam=0.1 = 1.0884613542905341\n",
            "Root-mean-square error for maxIter=5, regParam=0.5 = 1.2079734043522738\n",
            "Root-mean-square error for maxIter=5, regParam=1.0 = 1.4967499541655533\n",
            "Root-mean-square error for maxIter=10, regParam=0.1 = 0.9908285031041218\n",
            "Root-mean-square error for maxIter=10, regParam=0.5 = 1.2038556335334538\n",
            "Root-mean-square error for maxIter=10, regParam=1.0 = 1.4967146454568323\n",
            "Root-mean-square error for maxIter=15, regParam=0.1 = 0.9786344420028297\n",
            "Root-mean-square error for maxIter=15, regParam=0.5 = 1.2032519694174355\n",
            "Root-mean-square error for maxIter=15, regParam=1.0 = 1.4967146781966396\n"
          ]
        }
      ]
    },
    {
      "cell_type": "code",
      "source": [
        "# Find the hyperparameter combination with the lowest RMSE\n",
        "best_params = min(results, key=results.get)\n",
        "best_rmse = results[best_params]\n",
        "print(f\"\\nBest hyperparameters: maxIter={best_params[0]}, regParam={best_params[1]} with RMSE={best_rmse}\")"
      ],
      "metadata": {
        "colab": {
          "base_uri": "https://localhost:8080/"
        },
        "id": "7RnOUBR_TqFd",
        "outputId": "6efd2fff-2149-4cbd-9aa5-2c287d067817"
      },
      "execution_count": 21,
      "outputs": [
        {
          "output_type": "stream",
          "name": "stdout",
          "text": [
            "\n",
            "Best hyperparameters: maxIter=15, regParam=0.1 with RMSE=0.9786344420028297\n"
          ]
        }
      ]
    },
    {
      "cell_type": "markdown",
      "source": [
        "## Generate Movie Recomendation"
      ],
      "metadata": {
        "id": "cPQV_qrMTsOr"
      }
    },
    {
      "cell_type": "code",
      "source": [
        "# Train the model with the best hyperparameters\n",
        "best_als = ALS(maxIter=best_params[0], regParam=best_params[1], userCol=\"userId\", itemCol=\"movieId\", ratingCol=\"rating\",\n",
        "               coldStartStrategy=\"drop\")\n",
        "best_model = best_als.fit(training)"
      ],
      "metadata": {
        "id": "Rr2hmyHvTs2h"
      },
      "execution_count": 22,
      "outputs": []
    },
    {
      "cell_type": "markdown",
      "source": [
        "## Print Result and Show Ouput"
      ],
      "metadata": {
        "id": "G4AOYpayTxGq"
      }
    },
    {
      "cell_type": "code",
      "source": [
        "# Generate top 10 movie recommendations for each user\n",
        "userRecs = best_model.recommendForAllUsers(10)\n",
        "userRecs.show()"
      ],
      "metadata": {
        "colab": {
          "base_uri": "https://localhost:8080/"
        },
        "id": "Dk1AFx4sTxlI",
        "outputId": "c90ebc36-28f8-446d-bb98-e4e0a7cb30d6"
      },
      "execution_count": 23,
      "outputs": [
        {
          "output_type": "stream",
          "name": "stdout",
          "text": [
            "+------+--------------------+\n",
            "|userId|     recommendations|\n",
            "+------+--------------------+\n",
            "|    20|[{22, 3.726203}, ...|\n",
            "|    10|[{49, 2.7171586},...|\n",
            "|     0|[{2, 2.588266}, {...|\n",
            "|     1|[{62, 2.9802883},...|\n",
            "|    21|[{29, 4.2106977},...|\n",
            "|    11|[{32, 4.717435}, ...|\n",
            "|    12|[{64, 4.2527}, {1...|\n",
            "|    22|[{88, 4.5162344},...|\n",
            "|     2|[{93, 4.6412106},...|\n",
            "|    13|[{93, 3.115012}, ...|\n",
            "|     3|[{30, 4.2603374},...|\n",
            "|    23|[{32, 4.7912803},...|\n",
            "|     4|[{29, 3.5301394},...|\n",
            "|    24|[{69, 4.468046}, ...|\n",
            "|    14|[{29, 4.5012035},...|\n",
            "|     5|[{46, 3.7628384},...|\n",
            "|    15|[{46, 4.230317}, ...|\n",
            "|    25|[{46, 3.763657}, ...|\n",
            "|    26|[{22, 4.779094}, ...|\n",
            "|     6|[{25, 4.231402}, ...|\n",
            "+------+--------------------+\n",
            "only showing top 20 rows\n",
            "\n"
          ]
        }
      ]
    },
    {
      "cell_type": "code",
      "source": [
        "# Generate top 10 user recommendations for each movie\n",
        "movieRecs = best_model.recommendForAllItems(10)\n",
        "movieRecs.show()"
      ],
      "metadata": {
        "colab": {
          "base_uri": "https://localhost:8080/"
        },
        "id": "yLV7tn7dT0T3",
        "outputId": "250cf7a9-fb93-4c5e-8c7b-e492d26eb432"
      },
      "execution_count": 24,
      "outputs": [
        {
          "output_type": "stream",
          "name": "stdout",
          "text": [
            "+-------+--------------------+\n",
            "|movieId|     recommendations|\n",
            "+-------+--------------------+\n",
            "|     20|[{17, 4.32391}, {...|\n",
            "|     40|[{2, 2.313482}, {...|\n",
            "|     10|[{23, 3.7053993},...|\n",
            "|     50|[{23, 3.708891}, ...|\n",
            "|     80|[{3, 3.2182882}, ...|\n",
            "|     70|[{8, 3.2199912}, ...|\n",
            "|     60|[{22, 2.6367269},...|\n",
            "|     90|[{16, 4.5834417},...|\n",
            "|     30|[{11, 4.6718946},...|\n",
            "|      0|[{28, 2.816168}, ...|\n",
            "|     31|[{12, 3.1125932},...|\n",
            "|     81|[{11, 3.3977723},...|\n",
            "|     91|[{23, 2.6864283},...|\n",
            "|      1|[{25, 2.9285612},...|\n",
            "|     41|[{8, 3.5585325}, ...|\n",
            "|     61|[{6, 2.2451425}, ...|\n",
            "|     51|[{26, 4.0095773},...|\n",
            "|     21|[{26, 2.7833862},...|\n",
            "|     11|[{18, 3.3367631},...|\n",
            "|     71|[{25, 3.002106}, ...|\n",
            "+-------+--------------------+\n",
            "only showing top 20 rows\n",
            "\n"
          ]
        }
      ]
    },
    {
      "cell_type": "code",
      "source": [
        "# Generate top 10 movie recommendations for a specific set of users\n",
        "users = ratings.select(best_als.getUserCol()).distinct().limit(3)\n",
        "userSubsetRecs = best_model.recommendForUserSubset(users, 10)\n",
        "userSubsetRecs.show()"
      ],
      "metadata": {
        "colab": {
          "base_uri": "https://localhost:8080/"
        },
        "id": "ODdmMHkDT1-H",
        "outputId": "658c392e-f94b-4651-e836-f394dac59afb"
      },
      "execution_count": 25,
      "outputs": [
        {
          "output_type": "stream",
          "name": "stdout",
          "text": [
            "+------+--------------------+\n",
            "|userId|     recommendations|\n",
            "+------+--------------------+\n",
            "|    26|[{22, 4.779094}, ...|\n",
            "|    19|[{90, 3.4500241},...|\n",
            "|    29|[{46, 4.4573317},...|\n",
            "+------+--------------------+\n",
            "\n"
          ]
        }
      ]
    },
    {
      "cell_type": "code",
      "source": [
        "# Generate top 10 user recommendations for a specific set of movies\n",
        "movies = ratings.select(best_als.getItemCol()).distinct().limit(3)\n",
        "movieSubSetRecs = best_model.recommendForItemSubset(movies, 10)\n",
        "movieSubSetRecs.show()"
      ],
      "metadata": {
        "colab": {
          "base_uri": "https://localhost:8080/"
        },
        "id": "zIaTlDMwUBvg",
        "outputId": "644e4b7e-869a-48a8-d2df-119d16b178b1"
      },
      "execution_count": 26,
      "outputs": [
        {
          "output_type": "stream",
          "name": "stdout",
          "text": [
            "+-------+--------------------+\n",
            "|movieId|     recommendations|\n",
            "+-------+--------------------+\n",
            "|     65|[{23, 4.2237153},...|\n",
            "|     26|[{28, 2.5338242},...|\n",
            "|     29|[{8, 4.7771497}, ...|\n",
            "+-------+--------------------+\n",
            "\n"
          ]
        }
      ]
    },
    {
      "cell_type": "markdown",
      "source": [
        "## Summary\n",
        "\n",
        "The following sections describe the implemented steps:\n",
        "\n",
        "* Data Loading and Preprocessing: </br>\n",
        "We loaded the MovieLens dataset, processed it, and split it into training and test sets.\n",
        "\n",
        "* Hyperparameter Tuning: </br>\n",
        "We tried different combinations of maxIter and regParam values, evaluated the models on the test set, and stored the RMSE results in a dictionary.\n",
        "\n",
        "* Model Selection: </br>\n",
        "We identified the best hyperparameter combination based on the lowest RMSE and displayed the results.\n",
        "\n",
        "* Generating Recommendations: </br>\n",
        "We trained the model using the best hyperparameters and generated recommendations for all users, all movies, a subset of users, and a subset of movies.\n",
        "\n",
        "The output shows the top 10 recommendations for each user, movie, and the specified subsets."
      ],
      "metadata": {
        "id": "O8t2PhoLUDsO"
      }
    }
  ]
}